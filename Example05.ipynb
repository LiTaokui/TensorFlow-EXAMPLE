{
  "nbformat": 4,
  "nbformat_minor": 0,
  "metadata": {
    "colab": {
      "name": "Example05.ipynb",
      "provenance": [],
      "authorship_tag": "ABX9TyPQhvGQ9Os3V3/gJ6SNXLy1",
      "include_colab_link": true
    },
    "kernelspec": {
      "name": "python3",
      "display_name": "Python 3"
    },
    "language_info": {
      "name": "python"
    },
    "accelerator": "GPU"
  },
  "cells": [
    {
      "cell_type": "markdown",
      "metadata": {
        "id": "view-in-github",
        "colab_type": "text"
      },
      "source": [
        "<a href=\"https://colab.research.google.com/github/LiTaokui/TensorFlow-Example/blob/main/Example05.ipynb\" target=\"_parent\"><img src=\"https://colab.research.google.com/assets/colab-badge.svg\" alt=\"Open In Colab\"/></a>"
      ]
    },
    {
      "cell_type": "code",
      "execution_count": 3,
      "metadata": {
        "id": "V7g2ELDIuh3s"
      },
      "outputs": [],
      "source": [
        "import numpy as np"
      ]
    },
    {
      "cell_type": "code",
      "source": [
        "state = {\n",
        "    0 : \"burger\",\n",
        "    1 : \"pizza\",\n",
        "    2 : \"hotdog\"\n",
        "}\n",
        "state"
      ],
      "metadata": {
        "colab": {
          "base_uri": "https://localhost:8080/"
        },
        "id": "WHHW5sQyuj4Q",
        "outputId": "6c38b37d-2a00-48a2-f3ca-0177e55b0a30"
      },
      "execution_count": 4,
      "outputs": [
        {
          "output_type": "execute_result",
          "data": {
            "text/plain": [
              "{0: 'burger', 1: 'pizza', 2: 'hotdog'}"
            ]
          },
          "metadata": {},
          "execution_count": 4
        }
      ]
    },
    {
      "cell_type": "code",
      "source": [
        "A = np.array([[0.2,0.6,0.2], [0.3,0.0,0.7], [0.5,0.0,0.5]])\n",
        "A"
      ],
      "metadata": {
        "colab": {
          "base_uri": "https://localhost:8080/"
        },
        "id": "0MHvCIUkz_-f",
        "outputId": "cf08662d-d0a8-4fe9-bccf-7429440ab961"
      },
      "execution_count": 5,
      "outputs": [
        {
          "output_type": "execute_result",
          "data": {
            "text/plain": [
              "array([[0.2, 0.6, 0.2],\n",
              "       [0.3, 0. , 0.7],\n",
              "       [0.5, 0. , 0.5]])"
            ]
          },
          "metadata": {},
          "execution_count": 5
        }
      ]
    },
    {
      "cell_type": "markdown",
      "source": [
        "## random walk ##"
      ],
      "metadata": {
        "id": "k50473YF4DWR"
      }
    },
    {
      "cell_type": "code",
      "source": [
        "n = 15\n",
        "start_state = 0\n",
        "print(state[start_state], \"--->\", end=\"\")\n",
        "prev_state = start_state\n",
        "\n",
        "while n-1:\n",
        "  curr_state = np.random.choice([0,1,2], p=A[prev_state])\n",
        "  print(state[curr_state], \"--->\", end=\"\")\n",
        "  prev_state = curr_state\n",
        "  n-=1\n",
        "print(\"stop\")"
      ],
      "metadata": {
        "colab": {
          "base_uri": "https://localhost:8080/"
        },
        "id": "J56nsPr00ddM",
        "outputId": "829ee50b-c3cc-4e46-acdd-0e0b33498f62"
      },
      "execution_count": 8,
      "outputs": [
        {
          "output_type": "stream",
          "name": "stdout",
          "text": [
            "burger --->pizza --->hotdog --->burger --->pizza --->hotdog --->hotdog --->hotdog --->burger --->hotdog --->burger --->pizza --->burger --->pizza --->hotdog --->stop\n"
          ]
        }
      ]
    },
    {
      "cell_type": "markdown",
      "source": [
        "## approach 1 : monte carlo ##"
      ],
      "metadata": {
        "id": "cPEOD0Dj4KW_"
      }
    },
    {
      "cell_type": "code",
      "source": [
        "steps = 10**6\n",
        "start_state = 0\n",
        "pi = np.array([0,0,0])\n",
        "prev_state = start_state\n",
        "\n",
        "i = 0\n",
        "while i<steps:\n",
        "  curr_state = np.random.choice([0,1,2], p=A[prev_state])\n",
        "  pi[curr_state]+=1\n",
        "  prev_state = curr_state\n",
        "  i+=1\n",
        "\n",
        "print(\"pi=\", pi/steps)"
      ],
      "metadata": {
        "colab": {
          "base_uri": "https://localhost:8080/"
        },
        "id": "j9a8ZxBm3gN5",
        "outputId": "baaa8191-98fa-4aad-ac02-7bbbc3450d75"
      },
      "execution_count": 10,
      "outputs": [
        {
          "output_type": "stream",
          "name": "stdout",
          "text": [
            "pi= [0.351775 0.210836 0.437389]\n"
          ]
        }
      ]
    },
    {
      "cell_type": "markdown",
      "source": [
        "## approach 2 : repeated matrix multiplication ##"
      ],
      "metadata": {
        "id": "k_rQ3G2E47V1"
      }
    },
    {
      "cell_type": "code",
      "source": [
        "steps = 10**3\n",
        "A_n = A\n",
        "\n",
        "i = 0\n",
        "while i<steps:\n",
        "  A_n = np.matmul(A_n,A)\n",
        "  i+=1\n",
        "\n",
        "print(\"A^n = \\n\", A_n, \"\\n\")\n",
        "print(\"pi =\", A_n[0])"
      ],
      "metadata": {
        "colab": {
          "base_uri": "https://localhost:8080/"
        },
        "id": "5LwMm6Fx46Ic",
        "outputId": "da993250-ea6c-4a92-bc71-2406788185e7"
      },
      "execution_count": 12,
      "outputs": [
        {
          "output_type": "stream",
          "name": "stdout",
          "text": [
            "A^n = \n",
            " [[0.35211268 0.21126761 0.43661972]\n",
            " [0.35211268 0.21126761 0.43661972]\n",
            " [0.35211268 0.21126761 0.43661972]] \n",
            "\n",
            "pi = [0.35211268 0.21126761 0.43661972]\n"
          ]
        }
      ]
    },
    {
      "cell_type": "markdown",
      "source": [
        "## approach 3 : find left e-vectors ##"
      ],
      "metadata": {
        "id": "QZEBaFF76xbx"
      }
    },
    {
      "cell_type": "code",
      "source": [
        "import scipy.linalg\n",
        "values, left = scipy.linalg.eig(A, right = False, left = True)\n",
        "\n",
        "print(\"left eigen vectors = \\n\", left, \"\\n\")\n",
        "print(\"eigen values = \\n\", values)"
      ],
      "metadata": {
        "colab": {
          "base_uri": "https://localhost:8080/"
        },
        "id": "DmazEvW36mGh",
        "outputId": "9e0577b2-c2a8-4a1d-d899-629a4a04fe00"
      },
      "execution_count": 16,
      "outputs": [
        {
          "output_type": "stream",
          "name": "stdout",
          "text": [
            "left eigen vectors = \n",
            " [[-0.58746336+0.j          0.16984156+0.35355339j  0.16984156-0.35355339j]\n",
            " [-0.35247801+0.j         -0.67936622+0.j         -0.67936622-0.j        ]\n",
            " [-0.72845456+0.j          0.50952467-0.35355339j  0.50952467+0.35355339j]] \n",
            "\n",
            "eigen values = \n",
            " [ 1.  +0.j        -0.15+0.3122499j -0.15-0.3122499j]\n"
          ]
        }
      ]
    },
    {
      "cell_type": "code",
      "source": [
        "pi = left[:,0]\n",
        "pi_normalized = [x/np.sum(pi).real for x in pi]\n",
        "pi_normalized"
      ],
      "metadata": {
        "colab": {
          "base_uri": "https://localhost:8080/"
        },
        "id": "hu8jildi8MQi",
        "outputId": "ca951200-62b1-49f7-80f1-468fb56bad25"
      },
      "execution_count": 17,
      "outputs": [
        {
          "output_type": "execute_result",
          "data": {
            "text/plain": [
              "[(0.3521126760563379-0j), (0.21126760563380304-0j), (0.4366197183098591-0j)]"
            ]
          },
          "metadata": {},
          "execution_count": 17
        }
      ]
    },
    {
      "cell_type": "markdown",
      "source": [
        "## P(pizza ---> hotdog ---> hotdog ---> burger) = ? ##"
      ],
      "metadata": {
        "id": "LCvygwdt9NQJ"
      }
    },
    {
      "cell_type": "code",
      "source": [
        "def find_prob(seq,A, pi):\n",
        "  start_state = seq[0]\n",
        "  prob =pi[start_state]\n",
        "  prev_state = start_state\n",
        "  for i in range(1, len(seq)):\n",
        "    curr_state = seq[i]\n",
        "    prob *= A[prev_state][curr_state]\n",
        "    prev_state = curr_state\n",
        "  return prob\n",
        "\n",
        "print(find_prob([1,2,2,0], A, pi_normalized))"
      ],
      "metadata": {
        "colab": {
          "base_uri": "https://localhost:8080/"
        },
        "id": "aH85UZT_8diT",
        "outputId": "7dd80c78-6ea4-44d5-cc98-1891cb239958"
      },
      "execution_count": 18,
      "outputs": [
        {
          "output_type": "stream",
          "name": "stdout",
          "text": [
            "(0.03697183098591553+0j)\n"
          ]
        }
      ]
    }
  ]
}