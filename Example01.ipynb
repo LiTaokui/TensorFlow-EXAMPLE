{
  "nbformat": 4,
  "nbformat_minor": 0,
  "metadata": {
    "colab": {
      "name": "Example01.ipynb",
      "provenance": [],
      "authorship_tag": "ABX9TyMEeD68BKZl2AXTz5hG5QmN",
      "include_colab_link": true
    },
    "kernelspec": {
      "name": "python3",
      "display_name": "Python 3"
    },
    "language_info": {
      "name": "python"
    }
  },
  "cells": [
    {
      "cell_type": "markdown",
      "metadata": {
        "id": "view-in-github",
        "colab_type": "text"
      },
      "source": [
        "<a href=\"https://colab.research.google.com/github/LiTaokui/TensorFlow-Example/blob/main/Example01.ipynb\" target=\"_parent\"><img src=\"https://colab.research.google.com/assets/colab-badge.svg\" alt=\"Open In Colab\"/></a>"
      ]
    },
    {
      "cell_type": "markdown",
      "source": [
        "**In this case, I'm trying to build a neural network to predict the strength of concrete. Let's get started!!!**"
      ],
      "metadata": {
        "id": "ITXT8ZaLAZPp"
      }
    },
    {
      "cell_type": "code",
      "source": [
        "# import required libraries\n",
        "import tensorflow as tf\n",
        "import pandas as pd\n",
        "import matplotlib.pyplot as plt"
      ],
      "metadata": {
        "id": "O9KyQQo8AwoV"
      },
      "execution_count": 1,
      "outputs": []
    },
    {
      "cell_type": "code",
      "source": [
        ""
      ],
      "metadata": {
        "id": "VaHZvnQ2LpMQ"
      },
      "execution_count": null,
      "outputs": []
    }
  ]
}